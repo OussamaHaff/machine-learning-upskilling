{
  "cells": [
    {
      "cell_type": "markdown",
      "metadata": {
        "id": "view-in-github",
        "colab_type": "text"
      },
      "source": [
        "<a href=\"https://colab.research.google.com/github/OussamaHaff/machine-learning-upskilling/blob/main/02-llms-from-scratch/04-token-embeddings-with-positional-encoding/token_embeddings_with_positisional_encoding.ipynb\" target=\"_parent\"><img src=\"https://colab.research.google.com/assets/colab-badge.svg\" alt=\"Open In Colab\"/></a>"
      ]
    },
    {
      "cell_type": "markdown",
      "source": [
        "# Basic token IDs to embedding vectors"
      ],
      "metadata": {
        "id": "initial_id"
      },
      "id": "initial_id"
    },
    {
      "cell_type": "markdown",
      "source": [
        "## Exploration"
      ],
      "metadata": {
        "id": "-jm1a3hezyBS"
      },
      "id": "-jm1a3hezyBS"
    },
    {
      "cell_type": "code",
      "source": [
        "import torch\n",
        "\n",
        "input_token_ids = torch.tensor([2, 3, 5, 1])\n",
        "\n",
        "vocab_size = 6\n",
        "output_embeddings_dim_size = 3\n",
        "\n",
        "# Instantiate an embedding layer (with random seed 123 for reproducibility)\n",
        "torch.manual_seed(123)\n",
        "embedding_layer = torch.nn.Embedding(num_embeddings=vocab_size,\n",
        "    embedding_dim=output_embeddings_dim_size)\n",
        "print(\"Wights \\n\", embedding_layer.weight)\n",
        "print(\"Shape\\n\", embedding_layer.weight.shape)"
      ],
      "metadata": {
        "id": "Cn8r1m8XOvti",
        "outputId": "49c72373-3b85-4db0-9389-9a5984207ec3",
        "colab": {
          "base_uri": "https://localhost:8080/"
        }
      },
      "id": "Cn8r1m8XOvti",
      "execution_count": 21,
      "outputs": [
        {
          "output_type": "stream",
          "name": "stdout",
          "text": [
            "Wights \n",
            " Parameter containing:\n",
            "tensor([[ 0.3374, -0.1778, -0.1690],\n",
            "        [ 0.9178,  1.5810,  1.3010],\n",
            "        [ 1.2753, -0.2010, -0.1606],\n",
            "        [-0.4015,  0.9666, -1.1481],\n",
            "        [-1.1589,  0.3255, -0.6315],\n",
            "        [-2.8400, -0.7849, -1.4096]], requires_grad=True)\n",
            "Shape\n",
            " torch.Size([6, 3])\n"
          ]
        }
      ]
    },
    {
      "cell_type": "code",
      "source": [
        "print(embedding_layer(torch.tensor([3])))"
      ],
      "metadata": {
        "id": "y9fW0JReTt1V",
        "outputId": "5a0f9b03-d236-42db-fd90-dc9f5acc2be3",
        "colab": {
          "base_uri": "https://localhost:8080/"
        }
      },
      "id": "y9fW0JReTt1V",
      "execution_count": 18,
      "outputs": [
        {
          "output_type": "stream",
          "name": "stdout",
          "text": [
            "tensor([[-0.4015,  0.9666, -1.1481]], grad_fn=<EmbeddingBackward0>)\n"
          ]
        }
      ]
    },
    {
      "cell_type": "code",
      "source": [
        "print(embedding_layer(input_token_ids))"
      ],
      "metadata": {
        "id": "K2OD-ApRVMPn",
        "outputId": "ba1ad2ab-7945-44ee-f42b-98c1ea4cabf0",
        "colab": {
          "base_uri": "https://localhost:8080/"
        }
      },
      "id": "K2OD-ApRVMPn",
      "execution_count": 19,
      "outputs": [
        {
          "output_type": "stream",
          "name": "stdout",
          "text": [
            "tensor([[ 1.2753, -0.2010, -0.1606],\n",
            "        [-0.4015,  0.9666, -1.1481],\n",
            "        [-2.8400, -0.7849, -1.4096],\n",
            "        [ 0.9178,  1.5810,  1.3010]], grad_fn=<EmbeddingBackward0>)\n"
          ]
        }
      ]
    },
    {
      "cell_type": "markdown",
      "source": [
        "## Observations\n",
        "\n",
        "- Initial Embedding weights are random.\n",
        "- The Embedding layer is essentially a lookup function to get wights of of token IDs."
      ],
      "metadata": {
        "id": "hzvmZOaccKiD"
      },
      "id": "hzvmZOaccKiD"
    }
  ],
  "metadata": {
    "kernelspec": {
      "display_name": "Python 3",
      "language": "python",
      "name": "python3"
    },
    "language_info": {
      "codemirror_mode": {
        "name": "ipython",
        "version": 2
      },
      "file_extension": ".py",
      "mimetype": "text/x-python",
      "name": "python",
      "nbconvert_exporter": "python",
      "pygments_lexer": "ipython2",
      "version": "2.7.6"
    },
    "colab": {
      "provenance": [],
      "include_colab_link": true
    }
  },
  "nbformat": 4,
  "nbformat_minor": 5
}