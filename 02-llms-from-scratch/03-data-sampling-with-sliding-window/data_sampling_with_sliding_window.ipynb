{
 "cells": [
  {
   "metadata": {
    "ExecuteTime": {
     "end_time": "2025-02-15T13:38:54.331023Z",
     "start_time": "2025-02-15T13:38:54.328084Z"
    }
   },
   "cell_type": "code",
   "source": "print(\"Hello\")",
   "id": "c92af7abaa21002",
   "outputs": [
    {
     "name": "stdout",
     "output_type": "stream",
     "text": [
      "Hello\n"
     ]
    }
   ],
   "execution_count": 2
  }
 ],
 "metadata": {},
 "nbformat": 5,
 "nbformat_minor": 9
}
