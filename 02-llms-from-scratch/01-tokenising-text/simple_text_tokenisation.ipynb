{
  "cells": [
    {
      "cell_type": "markdown",
      "metadata": {
        "id": "view-in-github",
        "colab_type": "text"
      },
      "source": [
        "<a href=\"https://colab.research.google.com/github/OussamaHaff/machine-learning-upskilling/blob/main/02-llms-from-scratch/01-tokenising-text/simple_text_tokenisation.ipynb\" target=\"_parent\"><img src=\"https://colab.research.google.com/assets/colab-badge.svg\" alt=\"Open In Colab\"/></a>"
      ]
    },
    {
      "cell_type": "markdown",
      "source": [
        "### Stats about text to tokenise"
      ],
      "metadata": {
        "id": "7k0jVYiCxTcg"
      },
      "id": "7k0jVYiCxTcg"
    },
    {
      "cell_type": "code",
      "execution_count": 5,
      "id": "initial_id",
      "metadata": {
        "collapsed": true,
        "colab": {
          "base_uri": "https://localhost:8080/"
        },
        "id": "initial_id",
        "outputId": "557722df-3155-4c64-cba1-eee737419450"
      },
      "outputs": [
        {
          "output_type": "stream",
          "name": "stdout",
          "text": [
            "Total number of characters: 20479\n"
          ]
        }
      ],
      "source": [
        "with open(\"data/the-verdict.txt\", \"r\", encoding=\"utf-8\") as book_file:\n",
        "    raw_text = book_file.read()\n",
        "\n",
        "print(\"Total number of characters:\", len(raw_text))"
      ]
    },
    {
      "cell_type": "code",
      "source": [
        "print(\"First 100 characters:\\n\", raw_text[:99])"
      ],
      "metadata": {
        "colab": {
          "base_uri": "https://localhost:8080/"
        },
        "id": "PxDZONeHx2Rm",
        "outputId": "e3165644-383a-4f5b-b6a8-8dd8804266f5"
      },
      "id": "PxDZONeHx2Rm",
      "execution_count": 9,
      "outputs": [
        {
          "output_type": "stream",
          "name": "stdout",
          "text": [
            "First 100 characters:\n",
            " I HAD always thought Jack Gisburn rather a cheap genius--though a good fellow enough--so it was no \n"
          ]
        }
      ]
    },
    {
      "cell_type": "markdown",
      "source": [
        "### Basic Regex\n",
        "\n",
        "\n",
        "\n",
        "*   Split test *on* whitespace character (`s` for space)"
      ],
      "metadata": {
        "id": "a6AkhhAi0BqB"
      },
      "id": "a6AkhhAi0BqB"
    },
    {
      "cell_type": "code",
      "source": [
        "import re\n",
        "\n",
        "text = \"Hello, world. This, is a test.\"\n",
        "result_s_split_only = re.split(r'(\\s)', text)\n",
        "print(result_s_split_only)"
      ],
      "metadata": {
        "colab": {
          "base_uri": "https://localhost:8080/"
        },
        "id": "Lw9ZzuLq0RdT",
        "outputId": "1af0e201-caa5-4ea0-ad70-bf941fc0325f"
      },
      "id": "Lw9ZzuLq0RdT",
      "execution_count": 10,
      "outputs": [
        {
          "output_type": "stream",
          "name": "stdout",
          "text": [
            "['Hello,', ' ', 'world.', ' ', 'This,', ' ', 'is', ' ', 'a', ' ', 'test.']\n"
          ]
        }
      ]
    },
    {
      "cell_type": "markdown",
      "source": [
        "*   Split on whitespace (s), comma (,) and period (.)"
      ],
      "metadata": {
        "id": "3Q2s9QlV1Mbs"
      },
      "id": "3Q2s9QlV1Mbs"
    },
    {
      "cell_type": "code",
      "source": [
        "result_punc_chars_split = re.split(r'([,.]|\\s)', text)\n",
        "print(result_punc_chars_split)"
      ],
      "metadata": {
        "colab": {
          "base_uri": "https://localhost:8080/"
        },
        "id": "pPer5cXq1meb",
        "outputId": "8f361171-e5af-4e90-c5af-3a1514662e2a"
      },
      "id": "pPer5cXq1meb",
      "execution_count": 11,
      "outputs": [
        {
          "output_type": "stream",
          "name": "stdout",
          "text": [
            "['Hello', ',', '', ' ', 'world', '.', '', ' ', 'This', ',', '', ' ', 'is', ' ', 'a', ' ', 'test', '.', '']\n"
          ]
        }
      ]
    },
    {
      "cell_type": "markdown",
      "source": [
        "*   Strip the whitespace character"
      ],
      "metadata": {
        "id": "xO6O62-Z2Wc0"
      },
      "id": "xO6O62-Z2Wc0"
    },
    {
      "cell_type": "code",
      "source": [
        "result_strip_whitespace = [item for item in result_punc_chars_split if item.strip()]\n",
        "print(result_strip_whitespace)"
      ],
      "metadata": {
        "colab": {
          "base_uri": "https://localhost:8080/"
        },
        "id": "5lVqDCxs2jAa",
        "outputId": "db24b787-6840-4871-a8f1-b12b5af3fc20"
      },
      "id": "5lVqDCxs2jAa",
      "execution_count": 13,
      "outputs": [
        {
          "output_type": "stream",
          "name": "stdout",
          "text": [
            "['Hello', ',', 'world', '.', 'This', ',', 'is', 'a', 'test', '.']\n"
          ]
        }
      ]
    },
    {
      "cell_type": "markdown",
      "source": [
        "*    Splitg all punctuation characters"
      ],
      "metadata": {
        "id": "AVhTbnax49Hw"
      },
      "id": "AVhTbnax49Hw"
    },
    {
      "cell_type": "code",
      "source": [
        "text = \"Hello, world. Is this-- a test?\"\n",
        "result_all_punc_chars_split = re.split(r'([,.:;?!\"()\\']|--|\\s)', text)\n",
        "print(result_all_punc_chars_split)\n",
        "result_all_punc_chars_split_cleaned = [item for item in result_all_punc_chars_split if item.strip()]\n",
        "print(\"Cleaned result:\\n\", result_all_punc_chars_split_cleaned)"
      ],
      "metadata": {
        "colab": {
          "base_uri": "https://localhost:8080/"
        },
        "id": "bT_wQ_4_5FVa",
        "outputId": "f15f17b4-699c-4a26-db45-c37b4ee12cd5"
      },
      "id": "bT_wQ_4_5FVa",
      "execution_count": 16,
      "outputs": [
        {
          "output_type": "stream",
          "name": "stdout",
          "text": [
            "['Hello', ',', '', ' ', 'world', '.', '', ' ', 'Is', ' ', 'this', '--', '', ' ', 'a', ' ', 'test', '?', '']\n",
            "Cleaned result:\n",
            " ['Hello', ',', 'world', '.', 'Is', 'this', '--', 'a', 'test', '?']\n"
          ]
        }
      ]
    }
  ],
  "metadata": {
    "kernelspec": {
      "display_name": "Python 3",
      "language": "python",
      "name": "python3"
    },
    "language_info": {
      "codemirror_mode": {
        "name": "ipython",
        "version": 2
      },
      "file_extension": ".py",
      "mimetype": "text/x-python",
      "name": "python",
      "nbconvert_exporter": "python",
      "pygments_lexer": "ipython2",
      "version": "2.7.6"
    },
    "colab": {
      "provenance": [],
      "include_colab_link": true
    }
  },
  "nbformat": 4,
  "nbformat_minor": 5
}